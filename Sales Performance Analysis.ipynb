{
 "cells": [
  {
   "cell_type": "code",
   "execution_count": 1,
   "id": "dd0c16fc",
   "metadata": {},
   "outputs": [],
   "source": [
    "import pandas as pd"
   ]
  },
  {
   "cell_type": "code",
   "execution_count": 2,
   "id": "969661cd",
   "metadata": {},
   "outputs": [
    {
     "data": {
      "text/html": [
       "<div>\n",
       "<style scoped>\n",
       "    .dataframe tbody tr th:only-of-type {\n",
       "        vertical-align: middle;\n",
       "    }\n",
       "\n",
       "    .dataframe tbody tr th {\n",
       "        vertical-align: top;\n",
       "    }\n",
       "\n",
       "    .dataframe thead th {\n",
       "        text-align: right;\n",
       "    }\n",
       "</style>\n",
       "<table border=\"1\" class=\"dataframe\">\n",
       "  <thead>\n",
       "    <tr style=\"text-align: right;\">\n",
       "      <th></th>\n",
       "      <th>order_id | order_status    | customer               | order_date | order_quantity | sales     | discount | discount_value | product_category | product_sub_category           |</th>\n",
       "    </tr>\n",
       "  </thead>\n",
       "  <tbody>\n",
       "    <tr>\n",
       "      <th>0</th>\n",
       "      <td>+----------+-----------------+----------------...</td>\n",
       "    </tr>\n",
       "    <tr>\n",
       "      <th>1</th>\n",
       "      <td>|        3 | Order Finished  | Muhammed MacInt...</td>\n",
       "    </tr>\n",
       "    <tr>\n",
       "      <th>2</th>\n",
       "      <td>|      293 | Order Finished  | Barry French   ...</td>\n",
       "    </tr>\n",
       "    <tr>\n",
       "      <th>3</th>\n",
       "      <td>|      483 | Order Finished  | Clay Rozendal  ...</td>\n",
       "    </tr>\n",
       "    <tr>\n",
       "      <th>4</th>\n",
       "      <td>|      515 | Order Finished  | Carlos Soltero ...</td>\n",
       "    </tr>\n",
       "    <tr>\n",
       "      <th>...</th>\n",
       "      <td>...</td>\n",
       "    </tr>\n",
       "    <tr>\n",
       "      <th>5496</th>\n",
       "      <td>|    52706 | Order Finished  | Paul Prost     ...</td>\n",
       "    </tr>\n",
       "    <tr>\n",
       "      <th>5497</th>\n",
       "      <td>|    54279 | Order Finished  | Lisa DeCherney ...</td>\n",
       "    </tr>\n",
       "    <tr>\n",
       "      <th>5498</th>\n",
       "      <td>|    55558 | Order Finished  | Philip Brown   ...</td>\n",
       "    </tr>\n",
       "    <tr>\n",
       "      <th>5499</th>\n",
       "      <td>|    56581 | Order Finished  | Lisa DeCherney ...</td>\n",
       "    </tr>\n",
       "    <tr>\n",
       "      <th>5500</th>\n",
       "      <td>+----------+-----------------+----------------...</td>\n",
       "    </tr>\n",
       "  </tbody>\n",
       "</table>\n",
       "<p>5501 rows × 1 columns</p>\n",
       "</div>"
      ],
      "text/plain": [
       "      order_id | order_status    | customer               | order_date | order_quantity | sales     | discount | discount_value | product_category | product_sub_category           |\n",
       "0     +----------+-----------------+----------------...                                                                                                                              \n",
       "1     |        3 | Order Finished  | Muhammed MacInt...                                                                                                                              \n",
       "2     |      293 | Order Finished  | Barry French   ...                                                                                                                              \n",
       "3     |      483 | Order Finished  | Clay Rozendal  ...                                                                                                                              \n",
       "4     |      515 | Order Finished  | Carlos Soltero ...                                                                                                                              \n",
       "...                                                 ...                                                                                                                              \n",
       "5496  |    52706 | Order Finished  | Paul Prost     ...                                                                                                                              \n",
       "5497  |    54279 | Order Finished  | Lisa DeCherney ...                                                                                                                              \n",
       "5498  |    55558 | Order Finished  | Philip Brown   ...                                                                                                                              \n",
       "5499  |    56581 | Order Finished  | Lisa DeCherney ...                                                                                                                              \n",
       "5500  +----------+-----------------+----------------...                                                                                                                              \n",
       "\n",
       "[5501 rows x 1 columns]"
      ]
     },
     "execution_count": 2,
     "metadata": {},
     "output_type": "execute_result"
    }
   ],
   "source": [
    "df = pd.read_csv(r\"./salesperformance.csv\")\n",
    "df"
   ]
  },
  {
   "cell_type": "markdown",
   "id": "63fb60d0",
   "metadata": {},
   "source": [
    "The first look at this data, we can already tell it is in a dire need of bathing."
   ]
  },
  {
   "cell_type": "code",
   "execution_count": 3,
   "id": "0b0f3a51",
   "metadata": {},
   "outputs": [
    {
     "data": {
      "text/plain": [
       "Index([' order_id | order_status    | customer               | order_date | order_quantity | sales     | discount | discount_value | product_category | product_sub_category           |'], dtype='object')"
      ]
     },
     "execution_count": 3,
     "metadata": {},
     "output_type": "execute_result"
    }
   ],
   "source": [
    "df.columns"
   ]
  },
  {
   "cell_type": "markdown",
   "id": "0e99585c",
   "metadata": {},
   "source": [
    "### Data Cleaning\n",
    "Before we can take a good look at the data, we first need to align the data properly. To do so, we need to separate the column names, feed it into the dataframe again."
   ]
  },
  {
   "cell_type": "markdown",
   "id": "f8020a8c",
   "metadata": {},
   "source": [
    "Since \"|\" denotes the separation of each column, let's split it with that."
   ]
  },
  {
   "cell_type": "code",
   "execution_count": 4,
   "id": "975be4ae",
   "metadata": {},
   "outputs": [
    {
     "data": {
      "text/plain": [
       "Index([[' order_id ', ' order_status    ', ' customer               ', ' order_date ', ' order_quantity ', ' sales     ', ' discount ', ' discount_value ', ' product_category ', ' product_sub_category           ', '']], dtype='object')"
      ]
     },
     "execution_count": 4,
     "metadata": {},
     "output_type": "execute_result"
    }
   ],
   "source": [
    "col_names = df.columns.str.split(\"|\")\n",
    "col_names"
   ]
  },
  {
   "cell_type": "code",
   "execution_count": 5,
   "id": "38fe0ad7",
   "metadata": {},
   "outputs": [
    {
     "data": {
      "text/plain": [
       "['order_id',\n",
       " 'order_status',\n",
       " 'customer',\n",
       " 'order_date',\n",
       " 'order_quantity',\n",
       " 'sales',\n",
       " 'discount',\n",
       " 'discount_value',\n",
       " 'product_category',\n",
       " 'product_sub_category',\n",
       " '']"
      ]
     },
     "execution_count": 5,
     "metadata": {},
     "output_type": "execute_result"
    }
   ],
   "source": [
    "col_names_sep = []\n",
    "for x in col_names:\n",
    "    for y in x:\n",
    "        col_names_sep.append(y.strip())\n",
    "col_names_sep"
   ]
  },
  {
   "cell_type": "code",
   "execution_count": 6,
   "id": "d9fafd8a",
   "metadata": {},
   "outputs": [
    {
     "data": {
      "text/plain": [
       "['order_id',\n",
       " 'order_status',\n",
       " 'customer',\n",
       " 'order_date',\n",
       " 'order_quantity',\n",
       " 'sales',\n",
       " 'discount',\n",
       " 'discount_value',\n",
       " 'product_category',\n",
       " 'product_sub_category']"
      ]
     },
     "execution_count": 6,
     "metadata": {},
     "output_type": "execute_result"
    }
   ],
   "source": [
    "col_names_sep.pop()\n",
    "col_names_sep"
   ]
  },
  {
   "cell_type": "markdown",
   "id": "05fda520",
   "metadata": {},
   "source": [
    "Column names are now good to go. Each name is its own element in the list, we've stripped white space, and the last element which was an empty space is now gone."
   ]
  },
  {
   "cell_type": "code",
   "execution_count": 7,
   "id": "4452e9d4",
   "metadata": {},
   "outputs": [
    {
     "data": {
      "text/plain": [
       "['',\n",
       " '        3 ',\n",
       " ' Order Finished  ',\n",
       " ' Muhammed MacIntyre     ',\n",
       " ' 2010-10-13 ',\n",
       " '              6 ',\n",
       " '    523080 ',\n",
       " '     0.04 ',\n",
       " '          20923 ',\n",
       " ' Office Supplies  ',\n",
       " ' Storage & Organization         ',\n",
       " '']"
      ]
     },
     "execution_count": 7,
     "metadata": {},
     "output_type": "execute_result"
    }
   ],
   "source": [
    "col_values = df.iloc[:, 0].str.split(\"|\")\n",
    "col_values[1]"
   ]
  },
  {
   "cell_type": "code",
   "execution_count": 8,
   "id": "cafb9d13",
   "metadata": {},
   "outputs": [
    {
     "name": "stdout",
     "output_type": "stream",
     "text": [
      "10\n"
     ]
    }
   ],
   "source": [
    "print(len(col_names_sep))"
   ]
  },
  {
   "cell_type": "markdown",
   "id": "93df7890",
   "metadata": {},
   "source": [
    "The number of column names and column values will match once those white spaces are removed from column values. With the spaces, there are 12 elements, but since there's a space at the start and the end of the list (2), the number of values should be reduced to 10."
   ]
  },
  {
   "cell_type": "markdown",
   "id": "c1da2c21",
   "metadata": {},
   "source": [
    "Going to take it step-by-step. Start with cleaning the list of column values and store it into another variable. \n",
    "Let's keep in mind that the very first element of \"col_values\" list is unusuable data, so we'll start the iteration from the index position 1.\n",
    "\n",
    "clean_values will be the new list which will be populated with inner list of elements that have been stripped of undesired values, and this inner list will have the same length as the column names.\n",
    "The reason for using nested lists here is so that for each inner list, each column can take on the appropriate value. The data are already sorted in order."
   ]
  },
  {
   "cell_type": "code",
   "execution_count": 9,
   "id": "e75893aa",
   "metadata": {},
   "outputs": [],
   "source": [
    "clean_values = []\n",
    "for inner_list in col_values[1:-1]:\n",
    "    temp_list = []\n",
    "    for ind in range(len(inner_list) - 1):\n",
    "        if inner_list[ind] == \"\":\n",
    "            continue\n",
    "        temp_list.append(inner_list[ind].strip())\n",
    "    clean_values.append(temp_list)"
   ]
  },
  {
   "cell_type": "code",
   "execution_count": 10,
   "id": "10068db6",
   "metadata": {},
   "outputs": [
    {
     "name": "stdout",
     "output_type": "stream",
     "text": [
      "5499\n"
     ]
    }
   ],
   "source": [
    "print(len(clean_values))"
   ]
  },
  {
   "cell_type": "code",
   "execution_count": 11,
   "id": "5962efad",
   "metadata": {},
   "outputs": [
    {
     "name": "stdout",
     "output_type": "stream",
     "text": [
      "10\n"
     ]
    }
   ],
   "source": [
    "print(len(clean_values[0]))"
   ]
  },
  {
   "cell_type": "markdown",
   "id": "dfd9e747",
   "metadata": {},
   "source": [
    "Now that the column values are clean, they are ready to be applied to a dataframe. I'm going to leave the original dataframe as is even though it's not usable, just so I could always go back to that dirty dataframe if I've made mistakes along the way while cleaning."
   ]
  },
  {
   "cell_type": "code",
   "execution_count": 12,
   "id": "81748931",
   "metadata": {},
   "outputs": [
    {
     "data": {
      "text/html": [
       "<div>\n",
       "<style scoped>\n",
       "    .dataframe tbody tr th:only-of-type {\n",
       "        vertical-align: middle;\n",
       "    }\n",
       "\n",
       "    .dataframe tbody tr th {\n",
       "        vertical-align: top;\n",
       "    }\n",
       "\n",
       "    .dataframe thead th {\n",
       "        text-align: right;\n",
       "    }\n",
       "</style>\n",
       "<table border=\"1\" class=\"dataframe\">\n",
       "  <thead>\n",
       "    <tr style=\"text-align: right;\">\n",
       "      <th></th>\n",
       "      <th>order_id</th>\n",
       "      <th>order_status</th>\n",
       "      <th>customer</th>\n",
       "      <th>order_date</th>\n",
       "      <th>order_quantity</th>\n",
       "      <th>sales</th>\n",
       "      <th>discount</th>\n",
       "      <th>discount_value</th>\n",
       "      <th>product_category</th>\n",
       "      <th>product_sub_category</th>\n",
       "    </tr>\n",
       "  </thead>\n",
       "  <tbody>\n",
       "    <tr>\n",
       "      <th>0</th>\n",
       "      <td>3</td>\n",
       "      <td>Order Finished</td>\n",
       "      <td>Muhammed MacIntyre</td>\n",
       "      <td>2010-10-13</td>\n",
       "      <td>6</td>\n",
       "      <td>523080</td>\n",
       "      <td>0.04</td>\n",
       "      <td>20923</td>\n",
       "      <td>Office Supplies</td>\n",
       "      <td>Storage &amp; Organization</td>\n",
       "    </tr>\n",
       "    <tr>\n",
       "      <th>1</th>\n",
       "      <td>293</td>\n",
       "      <td>Order Finished</td>\n",
       "      <td>Barry French</td>\n",
       "      <td>2012-10-01</td>\n",
       "      <td>49</td>\n",
       "      <td>20246040</td>\n",
       "      <td>0.07</td>\n",
       "      <td>1417223</td>\n",
       "      <td>Office Supplies</td>\n",
       "      <td>Appliances</td>\n",
       "    </tr>\n",
       "    <tr>\n",
       "      <th>2</th>\n",
       "      <td>483</td>\n",
       "      <td>Order Finished</td>\n",
       "      <td>Clay Rozendal</td>\n",
       "      <td>2011-07-10</td>\n",
       "      <td>30</td>\n",
       "      <td>9931519</td>\n",
       "      <td>0.08</td>\n",
       "      <td>794522</td>\n",
       "      <td>Technology</td>\n",
       "      <td>Telephones and Communication</td>\n",
       "    </tr>\n",
       "    <tr>\n",
       "      <th>3</th>\n",
       "      <td>515</td>\n",
       "      <td>Order Finished</td>\n",
       "      <td>Carlos Soltero</td>\n",
       "      <td>2010-08-28</td>\n",
       "      <td>19</td>\n",
       "      <td>788540</td>\n",
       "      <td>0.08</td>\n",
       "      <td>63083</td>\n",
       "      <td>Office Supplies</td>\n",
       "      <td>Appliances</td>\n",
       "    </tr>\n",
       "    <tr>\n",
       "      <th>4</th>\n",
       "      <td>613</td>\n",
       "      <td>Order Finished</td>\n",
       "      <td>Carl Jackson</td>\n",
       "      <td>2011-06-17</td>\n",
       "      <td>12</td>\n",
       "      <td>187080</td>\n",
       "      <td>0.03</td>\n",
       "      <td>5612</td>\n",
       "      <td>Office Supplies</td>\n",
       "      <td>Binders and Binder Accessories</td>\n",
       "    </tr>\n",
       "    <tr>\n",
       "      <th>...</th>\n",
       "      <td>...</td>\n",
       "      <td>...</td>\n",
       "      <td>...</td>\n",
       "      <td>...</td>\n",
       "      <td>...</td>\n",
       "      <td>...</td>\n",
       "      <td>...</td>\n",
       "      <td>...</td>\n",
       "      <td>...</td>\n",
       "      <td>...</td>\n",
       "    </tr>\n",
       "    <tr>\n",
       "      <th>5494</th>\n",
       "      <td>47360</td>\n",
       "      <td>Order Finished</td>\n",
       "      <td>Philip Brown</td>\n",
       "      <td>2010-10-08</td>\n",
       "      <td>25</td>\n",
       "      <td>4401280</td>\n",
       "      <td>0.05</td>\n",
       "      <td>220064</td>\n",
       "      <td>Furniture</td>\n",
       "      <td>Chairs &amp; Chairmats</td>\n",
       "    </tr>\n",
       "    <tr>\n",
       "      <th>5495</th>\n",
       "      <td>52706</td>\n",
       "      <td>Order Finished</td>\n",
       "      <td>Paul Prost</td>\n",
       "      <td>2012-07-09</td>\n",
       "      <td>34</td>\n",
       "      <td>2083320</td>\n",
       "      <td>0.02</td>\n",
       "      <td>41666</td>\n",
       "      <td>Office Supplies</td>\n",
       "      <td>Binders and Binder Accessories</td>\n",
       "    </tr>\n",
       "    <tr>\n",
       "      <th>5496</th>\n",
       "      <td>54279</td>\n",
       "      <td>Order Finished</td>\n",
       "      <td>Lisa DeCherney</td>\n",
       "      <td>2011-07-30</td>\n",
       "      <td>41</td>\n",
       "      <td>20142180</td>\n",
       "      <td>0.1</td>\n",
       "      <td>2014218</td>\n",
       "      <td>Technology</td>\n",
       "      <td>Office Machines</td>\n",
       "    </tr>\n",
       "    <tr>\n",
       "      <th>5497</th>\n",
       "      <td>55558</td>\n",
       "      <td>Order Finished</td>\n",
       "      <td>Philip Brown</td>\n",
       "      <td>2010-08-09</td>\n",
       "      <td>8</td>\n",
       "      <td>2588080</td>\n",
       "      <td>0.05</td>\n",
       "      <td>129404</td>\n",
       "      <td>Furniture</td>\n",
       "      <td>Bookcases</td>\n",
       "    </tr>\n",
       "    <tr>\n",
       "      <th>5498</th>\n",
       "      <td>56581</td>\n",
       "      <td>Order Finished</td>\n",
       "      <td>Lisa DeCherney</td>\n",
       "      <td>2009-02-08</td>\n",
       "      <td>20</td>\n",
       "      <td>4052020</td>\n",
       "      <td>0.1</td>\n",
       "      <td>405202</td>\n",
       "      <td>Furniture</td>\n",
       "      <td>Office Furnishings</td>\n",
       "    </tr>\n",
       "  </tbody>\n",
       "</table>\n",
       "<p>5499 rows × 10 columns</p>\n",
       "</div>"
      ],
      "text/plain": [
       "     order_id    order_status            customer  order_date order_quantity  \\\n",
       "0           3  Order Finished  Muhammed MacIntyre  2010-10-13              6   \n",
       "1         293  Order Finished        Barry French  2012-10-01             49   \n",
       "2         483  Order Finished       Clay Rozendal  2011-07-10             30   \n",
       "3         515  Order Finished      Carlos Soltero  2010-08-28             19   \n",
       "4         613  Order Finished        Carl Jackson  2011-06-17             12   \n",
       "...       ...             ...                 ...         ...            ...   \n",
       "5494    47360  Order Finished        Philip Brown  2010-10-08             25   \n",
       "5495    52706  Order Finished          Paul Prost  2012-07-09             34   \n",
       "5496    54279  Order Finished      Lisa DeCherney  2011-07-30             41   \n",
       "5497    55558  Order Finished        Philip Brown  2010-08-09              8   \n",
       "5498    56581  Order Finished      Lisa DeCherney  2009-02-08             20   \n",
       "\n",
       "         sales discount discount_value product_category  \\\n",
       "0       523080     0.04          20923  Office Supplies   \n",
       "1     20246040     0.07        1417223  Office Supplies   \n",
       "2      9931519     0.08         794522       Technology   \n",
       "3       788540     0.08          63083  Office Supplies   \n",
       "4       187080     0.03           5612  Office Supplies   \n",
       "...        ...      ...            ...              ...   \n",
       "5494   4401280     0.05         220064        Furniture   \n",
       "5495   2083320     0.02          41666  Office Supplies   \n",
       "5496  20142180      0.1        2014218       Technology   \n",
       "5497   2588080     0.05         129404        Furniture   \n",
       "5498   4052020      0.1         405202        Furniture   \n",
       "\n",
       "                product_sub_category  \n",
       "0             Storage & Organization  \n",
       "1                         Appliances  \n",
       "2       Telephones and Communication  \n",
       "3                         Appliances  \n",
       "4     Binders and Binder Accessories  \n",
       "...                              ...  \n",
       "5494              Chairs & Chairmats  \n",
       "5495  Binders and Binder Accessories  \n",
       "5496                 Office Machines  \n",
       "5497                       Bookcases  \n",
       "5498              Office Furnishings  \n",
       "\n",
       "[5499 rows x 10 columns]"
      ]
     },
     "execution_count": 12,
     "metadata": {},
     "output_type": "execute_result"
    }
   ],
   "source": [
    "clean_df = pd.DataFrame(data=clean_values, columns=col_names_sep)\n",
    "clean_df"
   ]
  },
  {
   "cell_type": "markdown",
   "id": "267ae06a",
   "metadata": {},
   "source": [
    "This new dataframe should be good to go for actual EDA and Visualization."
   ]
  },
  {
   "cell_type": "markdown",
   "id": "21ee74e6",
   "metadata": {},
   "source": [
    "### Important to note:\n",
    "According to the person who uploaded the dataset, \"sales\" column refers to the sales generated in Indonesia Rupiah currency. Meaning, \"sales\" column represents profit, and \"order_quantity\" refers to the number of the specific item. \"discount_value\" column is also in terms of money, the value of which comes from \"sales\" multiplied by \"discount\" which is a percentage in decimal form.\n",
    "\n",
    "\"sales\" column, then, will be converted to USD for easier read for those familiar with USD."
   ]
  },
  {
   "cell_type": "code",
   "execution_count": null,
   "id": "2e15371f",
   "metadata": {},
   "outputs": [],
   "source": []
  }
 ],
 "metadata": {
  "kernelspec": {
   "display_name": "Python 3 (ipykernel)",
   "language": "python",
   "name": "python3"
  },
  "language_info": {
   "codemirror_mode": {
    "name": "ipython",
    "version": 3
   },
   "file_extension": ".py",
   "mimetype": "text/x-python",
   "name": "python",
   "nbconvert_exporter": "python",
   "pygments_lexer": "ipython3",
   "version": "3.11.5"
  }
 },
 "nbformat": 4,
 "nbformat_minor": 5
}
